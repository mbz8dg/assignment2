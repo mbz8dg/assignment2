{
  "cells": [
    {
      "cell_type": "markdown",
      "id": "13ad028b-72b7-43ed-aa78-96fd4e518040",
      "metadata": {
        "id": "13ad028b-72b7-43ed-aa78-96fd4e518040"
      },
      "source": [
        "# Assignment: Data Wrangling and Exploratory Data Analysis\n",
        "## Do Q1 and Q2, and one other question.\n",
        "`! git clone https://www.github.com/DS3001/assignment2`"
      ]
    },
    {
      "cell_type": "code",
      "source": [
        "! git clone https://www.github.com/DS3001/assignment2\n"
      ],
      "metadata": {
        "id": "5jqCZdQsj0np",
        "outputId": "504b1a91-f539-4a23-bc74-5924865fd151",
        "colab": {
          "base_uri": "https://localhost:8080/"
        }
      },
      "id": "5jqCZdQsj0np",
      "execution_count": 30,
      "outputs": [
        {
          "output_type": "stream",
          "name": "stdout",
          "text": [
            "Cloning into 'assignment2'...\n",
            "warning: redirecting to https://github.com/DS3001/assignment2.git/\n",
            "remote: Enumerating objects: 36, done.\u001b[K\n",
            "remote: Counting objects: 100% (12/12), done.\u001b[K\n",
            "remote: Compressing objects: 100% (7/7), done.\u001b[K\n",
            "remote: Total 36 (delta 8), reused 5 (delta 5), pack-reused 24\u001b[K\n",
            "Receiving objects: 100% (36/36), 5.47 MiB | 20.58 MiB/s, done.\n",
            "Resolving deltas: 100% (9/9), done.\n"
          ]
        }
      ]
    },
    {
      "cell_type": "markdown",
      "id": "5735a4d4-8be8-433a-a351-70eb8002e632",
      "metadata": {
        "id": "5735a4d4-8be8-433a-a351-70eb8002e632"
      },
      "source": [
        "**Q1.** Open the \"tidy_data.pdf\" document in the repo, which is a paper called Tidy Data by Hadley Wickham.\n",
        "\n",
        "  1. Read the abstract. What is this paper about?\n",
        "  2. Read the introduction. What is the \"tidy data standard\" intended to accomplish?\n",
        "  3. Read the intro to section 2. What does this sentence mean: \"Like families, tidy datasets are all alike but every messy dataset is messy in its own way.\" What does this sentence mean: \"For a given dataset, it’s usually easy to figure out what are observations and what are variables, but it is surprisingly difficult to precisely define variables and observations in general.\"\n",
        "  4. Read Section 2.2. How does Wickham define values, variables, and observations?\n",
        "  5. How is \"Tidy Data\" defined in section 2.3?\n",
        "  6. Read the intro to Section 3 and Section 3.1. What are the 5 most common problems with messy datasets? Why are the data in Table 4 messy? What is \"melting\" a dataset?\n",
        "  7. Why, specifically, is table 11 messy but table 12 tidy and \"molten\"?\n",
        "  8. Read Section 6. What is the \"chicken-and-egg\" problem with focusing on tidy data? What does Wickham hope happens in the future with further work on the subject of data wrangling?"
      ]
    },
    {
      "cell_type": "markdown",
      "source": [
        "###Q1\n",
        "\n",
        "1)\n",
        "\n",
        "The abstract states that this paper is about the development of a tidying method. Data tidying is the process of giving data a specific strucutre which is then easy to perform analysis and visualization on.\n",
        "\n",
        "2)\n",
        "\n",
        "According to the introduction the Tidy data standard is used to create a go to method for data cleaning such that new instances do not need to be overly creative with how to organize the data. It is based on several mathmatical principles and research\n",
        "\n",
        "3)\n",
        "\n",
        "The sentance  \"Like families, tidy datasets are all alike but every messy dataset is messy in its own way,\" refers to the standardization that comes form tidy data. Tidy data will all have similar attributes. However messy data can be messy in nearly infinite ways. This means it is impossible to predict just what makes messy data messy.\n",
        "\n",
        "The senatnce  \"For a given dataset, it’s usually easy to figure out what are observations and what are variables, but it is surprisingly difficult to precisely define variables and observations in general,\" means that it is generally intutitve whether somethign is an observation or a varible likely based on whether it is in a row or column. Also, depending on the situation for the data the recording could be either one.\n",
        "\n",
        "4)\n",
        "\n",
        "Values = is the actual information (strings or integers) that are in the data set\n",
        "\n",
        "variables = measures an attribute across all units\n",
        "\n",
        "observation = contains all attributes on same unit\n",
        "\n",
        "5)\n",
        "\n",
        "This definition comes from Codd's 3rd normal form. It states: all varibales form a column, each observation form a row, each type of observation unit forms a table.\n",
        "\n",
        "6)\n",
        "\n",
        "The five most common issues are:\n",
        "\n",
        "• Column headers are values, not variable names.\n",
        "\n",
        "• Multiple variables are stored in one column.\n",
        "\n",
        "• Variables are stored in both rows and columns.\n",
        "\n",
        "• Multiple types of observational units are stored in the same table.\n",
        "\n",
        "• A single observational unit is stored in multiple tables.\n",
        "\n",
        "Table four needs to be melted. This is the process of turning rows into columns.\n",
        "\n",
        "7)\n",
        "\n",
        "Table 11 is messy because there are variables in columns, across coumns, and in rows. Table 12 fixes this by first matching ID,year, and month to the tmin and tmax variables, then making each row its own observation by placing varibles tmin and tmax in columns.\n",
        "\n",
        "8)\n",
        "\n",
        "The chicken and egg problem is whether or not the tools for tidy data analysis or the tidy data itself is the orignial start to the self reinforcing loop of needing tidy data. She hopes that this will only be the start and that there will be more development in Tidy data to come.\n"
      ],
      "metadata": {
        "id": "pYrSVUnyC6T_"
      },
      "id": "pYrSVUnyC6T_"
    },
    {
      "cell_type": "markdown",
      "id": "da879ea7-8aac-48a3-b6c2-daea56d2e072",
      "metadata": {
        "id": "da879ea7-8aac-48a3-b6c2-daea56d2e072"
      },
      "source": [
        "**Q2.** This question provides some practice cleaning variables which have common problems.\n",
        "1. Numeric variable: For `./data/airbnb_hw.csv`, clean the `Price` variable as well as you can, and explain the choices you make. How many missing values do you end up with? (Hint: What happens to the formatting when a price goes over 999 dollars, say from 675 to 1,112?)\n",
        "2. Categorical variable: For the `./data/sharks.csv` data covered in the lecture, clean the \"Type\" variable as well as you can, and explain the choices you make.\n",
        "3. Dummy variable: For the pretrial data covered in the lecture, clean the `WhetherDefendantWasReleasedPretrial` variable as well as you can, and, in particular, replace missing values with `np.nan`.\n",
        "4. Missing values, not at random: For the pretrial data covered in the lecture, clean the `ImposedSentenceAllChargeInContactEvent` variable as well as you can, and explain the choices you make. (Hint: Look at the `SentenceTypeAllChargesAtConvictionInContactEvent` variable.)"
      ]
    },
    {
      "cell_type": "code",
      "source": [
        "import numpy as np\n",
        "import pandas as pd\n",
        "from pandas.core.base import value_counts"
      ],
      "metadata": {
        "id": "BHYmcPU2iHHP"
      },
      "id": "BHYmcPU2iHHP",
      "execution_count": 18,
      "outputs": []
    },
    {
      "cell_type": "markdown",
      "source": [
        "######1"
      ],
      "metadata": {
        "id": "IsmDuOrTrAMZ"
      },
      "id": "IsmDuOrTrAMZ"
    },
    {
      "cell_type": "code",
      "source": [
        "\n",
        "air = pd.read_csv(\"/content/assignment2/data/airbnb_hw.csv\")\n",
        "print(air.dtypes)\n",
        "air.head()\n"
      ],
      "metadata": {
        "id": "7PEe7JPSP3Qv",
        "colab": {
          "base_uri": "https://localhost:8080/",
          "height": 561
        },
        "outputId": "9e5e6c39-659e-4d0e-a2da-467d40e01405"
      },
      "id": "7PEe7JPSP3Qv",
      "execution_count": 73,
      "outputs": [
        {
          "output_type": "stream",
          "name": "stdout",
          "text": [
            "Host Id                         int64\n",
            "Host Since                     object\n",
            "Name                           object\n",
            "Neighbourhood                  object\n",
            "Property Type                  object\n",
            "Review Scores Rating (bin)    float64\n",
            "Room Type                      object\n",
            "Zipcode                       float64\n",
            "Beds                          float64\n",
            "Number of Records               int64\n",
            "Number Of Reviews               int64\n",
            "Price                          object\n",
            "Review Scores Rating          float64\n",
            "dtype: object\n"
          ]
        },
        {
          "output_type": "execute_result",
          "data": {
            "text/plain": [
              "    Host Id Host Since                                Name Neighbourhood   \\\n",
              "0   5162530        NaN     1 Bedroom in Prime Williamsburg       Brooklyn   \n",
              "1  33134899        NaN     Sunny, Private room in Bushwick       Brooklyn   \n",
              "2  39608626        NaN                Sunny Room in Harlem      Manhattan   \n",
              "3       500  6/26/2008  Gorgeous 1 BR with Private Balcony      Manhattan   \n",
              "4       500  6/26/2008            Trendy Times Square Loft      Manhattan   \n",
              "\n",
              "  Property Type  Review Scores Rating (bin)        Room Type  Zipcode  Beds  \\\n",
              "0     Apartment                         NaN  Entire home/apt  11249.0   1.0   \n",
              "1     Apartment                         NaN     Private room  11206.0   1.0   \n",
              "2     Apartment                         NaN     Private room  10032.0   1.0   \n",
              "3     Apartment                         NaN  Entire home/apt  10024.0   3.0   \n",
              "4     Apartment                        95.0     Private room  10036.0   3.0   \n",
              "\n",
              "   Number of Records  Number Of Reviews Price  Review Scores Rating  \n",
              "0                  1                  0   145                   NaN  \n",
              "1                  1                  1    37                   NaN  \n",
              "2                  1                  1    28                   NaN  \n",
              "3                  1                  0   199                   NaN  \n",
              "4                  1                 39   549                  96.0  "
            ],
            "text/html": [
              "\n",
              "  <div id=\"df-ce413a76-2933-45ce-b3ae-1a5e7088d6c1\" class=\"colab-df-container\">\n",
              "    <div>\n",
              "<style scoped>\n",
              "    .dataframe tbody tr th:only-of-type {\n",
              "        vertical-align: middle;\n",
              "    }\n",
              "\n",
              "    .dataframe tbody tr th {\n",
              "        vertical-align: top;\n",
              "    }\n",
              "\n",
              "    .dataframe thead th {\n",
              "        text-align: right;\n",
              "    }\n",
              "</style>\n",
              "<table border=\"1\" class=\"dataframe\">\n",
              "  <thead>\n",
              "    <tr style=\"text-align: right;\">\n",
              "      <th></th>\n",
              "      <th>Host Id</th>\n",
              "      <th>Host Since</th>\n",
              "      <th>Name</th>\n",
              "      <th>Neighbourhood</th>\n",
              "      <th>Property Type</th>\n",
              "      <th>Review Scores Rating (bin)</th>\n",
              "      <th>Room Type</th>\n",
              "      <th>Zipcode</th>\n",
              "      <th>Beds</th>\n",
              "      <th>Number of Records</th>\n",
              "      <th>Number Of Reviews</th>\n",
              "      <th>Price</th>\n",
              "      <th>Review Scores Rating</th>\n",
              "    </tr>\n",
              "  </thead>\n",
              "  <tbody>\n",
              "    <tr>\n",
              "      <th>0</th>\n",
              "      <td>5162530</td>\n",
              "      <td>NaN</td>\n",
              "      <td>1 Bedroom in Prime Williamsburg</td>\n",
              "      <td>Brooklyn</td>\n",
              "      <td>Apartment</td>\n",
              "      <td>NaN</td>\n",
              "      <td>Entire home/apt</td>\n",
              "      <td>11249.0</td>\n",
              "      <td>1.0</td>\n",
              "      <td>1</td>\n",
              "      <td>0</td>\n",
              "      <td>145</td>\n",
              "      <td>NaN</td>\n",
              "    </tr>\n",
              "    <tr>\n",
              "      <th>1</th>\n",
              "      <td>33134899</td>\n",
              "      <td>NaN</td>\n",
              "      <td>Sunny, Private room in Bushwick</td>\n",
              "      <td>Brooklyn</td>\n",
              "      <td>Apartment</td>\n",
              "      <td>NaN</td>\n",
              "      <td>Private room</td>\n",
              "      <td>11206.0</td>\n",
              "      <td>1.0</td>\n",
              "      <td>1</td>\n",
              "      <td>1</td>\n",
              "      <td>37</td>\n",
              "      <td>NaN</td>\n",
              "    </tr>\n",
              "    <tr>\n",
              "      <th>2</th>\n",
              "      <td>39608626</td>\n",
              "      <td>NaN</td>\n",
              "      <td>Sunny Room in Harlem</td>\n",
              "      <td>Manhattan</td>\n",
              "      <td>Apartment</td>\n",
              "      <td>NaN</td>\n",
              "      <td>Private room</td>\n",
              "      <td>10032.0</td>\n",
              "      <td>1.0</td>\n",
              "      <td>1</td>\n",
              "      <td>1</td>\n",
              "      <td>28</td>\n",
              "      <td>NaN</td>\n",
              "    </tr>\n",
              "    <tr>\n",
              "      <th>3</th>\n",
              "      <td>500</td>\n",
              "      <td>6/26/2008</td>\n",
              "      <td>Gorgeous 1 BR with Private Balcony</td>\n",
              "      <td>Manhattan</td>\n",
              "      <td>Apartment</td>\n",
              "      <td>NaN</td>\n",
              "      <td>Entire home/apt</td>\n",
              "      <td>10024.0</td>\n",
              "      <td>3.0</td>\n",
              "      <td>1</td>\n",
              "      <td>0</td>\n",
              "      <td>199</td>\n",
              "      <td>NaN</td>\n",
              "    </tr>\n",
              "    <tr>\n",
              "      <th>4</th>\n",
              "      <td>500</td>\n",
              "      <td>6/26/2008</td>\n",
              "      <td>Trendy Times Square Loft</td>\n",
              "      <td>Manhattan</td>\n",
              "      <td>Apartment</td>\n",
              "      <td>95.0</td>\n",
              "      <td>Private room</td>\n",
              "      <td>10036.0</td>\n",
              "      <td>3.0</td>\n",
              "      <td>1</td>\n",
              "      <td>39</td>\n",
              "      <td>549</td>\n",
              "      <td>96.0</td>\n",
              "    </tr>\n",
              "  </tbody>\n",
              "</table>\n",
              "</div>\n",
              "    <div class=\"colab-df-buttons\">\n",
              "\n",
              "  <div class=\"colab-df-container\">\n",
              "    <button class=\"colab-df-convert\" onclick=\"convertToInteractive('df-ce413a76-2933-45ce-b3ae-1a5e7088d6c1')\"\n",
              "            title=\"Convert this dataframe to an interactive table.\"\n",
              "            style=\"display:none;\">\n",
              "\n",
              "  <svg xmlns=\"http://www.w3.org/2000/svg\" height=\"24px\" viewBox=\"0 -960 960 960\">\n",
              "    <path d=\"M120-120v-720h720v720H120Zm60-500h600v-160H180v160Zm220 220h160v-160H400v160Zm0 220h160v-160H400v160ZM180-400h160v-160H180v160Zm440 0h160v-160H620v160ZM180-180h160v-160H180v160Zm440 0h160v-160H620v160Z\"/>\n",
              "  </svg>\n",
              "    </button>\n",
              "\n",
              "  <style>\n",
              "    .colab-df-container {\n",
              "      display:flex;\n",
              "      gap: 12px;\n",
              "    }\n",
              "\n",
              "    .colab-df-convert {\n",
              "      background-color: #E8F0FE;\n",
              "      border: none;\n",
              "      border-radius: 50%;\n",
              "      cursor: pointer;\n",
              "      display: none;\n",
              "      fill: #1967D2;\n",
              "      height: 32px;\n",
              "      padding: 0 0 0 0;\n",
              "      width: 32px;\n",
              "    }\n",
              "\n",
              "    .colab-df-convert:hover {\n",
              "      background-color: #E2EBFA;\n",
              "      box-shadow: 0px 1px 2px rgba(60, 64, 67, 0.3), 0px 1px 3px 1px rgba(60, 64, 67, 0.15);\n",
              "      fill: #174EA6;\n",
              "    }\n",
              "\n",
              "    .colab-df-buttons div {\n",
              "      margin-bottom: 4px;\n",
              "    }\n",
              "\n",
              "    [theme=dark] .colab-df-convert {\n",
              "      background-color: #3B4455;\n",
              "      fill: #D2E3FC;\n",
              "    }\n",
              "\n",
              "    [theme=dark] .colab-df-convert:hover {\n",
              "      background-color: #434B5C;\n",
              "      box-shadow: 0px 1px 3px 1px rgba(0, 0, 0, 0.15);\n",
              "      filter: drop-shadow(0px 1px 2px rgba(0, 0, 0, 0.3));\n",
              "      fill: #FFFFFF;\n",
              "    }\n",
              "  </style>\n",
              "\n",
              "    <script>\n",
              "      const buttonEl =\n",
              "        document.querySelector('#df-ce413a76-2933-45ce-b3ae-1a5e7088d6c1 button.colab-df-convert');\n",
              "      buttonEl.style.display =\n",
              "        google.colab.kernel.accessAllowed ? 'block' : 'none';\n",
              "\n",
              "      async function convertToInteractive(key) {\n",
              "        const element = document.querySelector('#df-ce413a76-2933-45ce-b3ae-1a5e7088d6c1');\n",
              "        const dataTable =\n",
              "          await google.colab.kernel.invokeFunction('convertToInteractive',\n",
              "                                                    [key], {});\n",
              "        if (!dataTable) return;\n",
              "\n",
              "        const docLinkHtml = 'Like what you see? Visit the ' +\n",
              "          '<a target=\"_blank\" href=https://colab.research.google.com/notebooks/data_table.ipynb>data table notebook</a>'\n",
              "          + ' to learn more about interactive tables.';\n",
              "        element.innerHTML = '';\n",
              "        dataTable['output_type'] = 'display_data';\n",
              "        await google.colab.output.renderOutput(dataTable, element);\n",
              "        const docLink = document.createElement('div');\n",
              "        docLink.innerHTML = docLinkHtml;\n",
              "        element.appendChild(docLink);\n",
              "      }\n",
              "    </script>\n",
              "  </div>\n",
              "\n",
              "\n",
              "<div id=\"df-164f5562-9848-4626-ba3b-a08b04296f80\">\n",
              "  <button class=\"colab-df-quickchart\" onclick=\"quickchart('df-164f5562-9848-4626-ba3b-a08b04296f80')\"\n",
              "            title=\"Suggest charts.\"\n",
              "            style=\"display:none;\">\n",
              "\n",
              "<svg xmlns=\"http://www.w3.org/2000/svg\" height=\"24px\"viewBox=\"0 0 24 24\"\n",
              "     width=\"24px\">\n",
              "    <g>\n",
              "        <path d=\"M19 3H5c-1.1 0-2 .9-2 2v14c0 1.1.9 2 2 2h14c1.1 0 2-.9 2-2V5c0-1.1-.9-2-2-2zM9 17H7v-7h2v7zm4 0h-2V7h2v10zm4 0h-2v-4h2v4z\"/>\n",
              "    </g>\n",
              "</svg>\n",
              "  </button>\n",
              "\n",
              "<style>\n",
              "  .colab-df-quickchart {\n",
              "      --bg-color: #E8F0FE;\n",
              "      --fill-color: #1967D2;\n",
              "      --hover-bg-color: #E2EBFA;\n",
              "      --hover-fill-color: #174EA6;\n",
              "      --disabled-fill-color: #AAA;\n",
              "      --disabled-bg-color: #DDD;\n",
              "  }\n",
              "\n",
              "  [theme=dark] .colab-df-quickchart {\n",
              "      --bg-color: #3B4455;\n",
              "      --fill-color: #D2E3FC;\n",
              "      --hover-bg-color: #434B5C;\n",
              "      --hover-fill-color: #FFFFFF;\n",
              "      --disabled-bg-color: #3B4455;\n",
              "      --disabled-fill-color: #666;\n",
              "  }\n",
              "\n",
              "  .colab-df-quickchart {\n",
              "    background-color: var(--bg-color);\n",
              "    border: none;\n",
              "    border-radius: 50%;\n",
              "    cursor: pointer;\n",
              "    display: none;\n",
              "    fill: var(--fill-color);\n",
              "    height: 32px;\n",
              "    padding: 0;\n",
              "    width: 32px;\n",
              "  }\n",
              "\n",
              "  .colab-df-quickchart:hover {\n",
              "    background-color: var(--hover-bg-color);\n",
              "    box-shadow: 0 1px 2px rgba(60, 64, 67, 0.3), 0 1px 3px 1px rgba(60, 64, 67, 0.15);\n",
              "    fill: var(--button-hover-fill-color);\n",
              "  }\n",
              "\n",
              "  .colab-df-quickchart-complete:disabled,\n",
              "  .colab-df-quickchart-complete:disabled:hover {\n",
              "    background-color: var(--disabled-bg-color);\n",
              "    fill: var(--disabled-fill-color);\n",
              "    box-shadow: none;\n",
              "  }\n",
              "\n",
              "  .colab-df-spinner {\n",
              "    border: 2px solid var(--fill-color);\n",
              "    border-color: transparent;\n",
              "    border-bottom-color: var(--fill-color);\n",
              "    animation:\n",
              "      spin 1s steps(1) infinite;\n",
              "  }\n",
              "\n",
              "  @keyframes spin {\n",
              "    0% {\n",
              "      border-color: transparent;\n",
              "      border-bottom-color: var(--fill-color);\n",
              "      border-left-color: var(--fill-color);\n",
              "    }\n",
              "    20% {\n",
              "      border-color: transparent;\n",
              "      border-left-color: var(--fill-color);\n",
              "      border-top-color: var(--fill-color);\n",
              "    }\n",
              "    30% {\n",
              "      border-color: transparent;\n",
              "      border-left-color: var(--fill-color);\n",
              "      border-top-color: var(--fill-color);\n",
              "      border-right-color: var(--fill-color);\n",
              "    }\n",
              "    40% {\n",
              "      border-color: transparent;\n",
              "      border-right-color: var(--fill-color);\n",
              "      border-top-color: var(--fill-color);\n",
              "    }\n",
              "    60% {\n",
              "      border-color: transparent;\n",
              "      border-right-color: var(--fill-color);\n",
              "    }\n",
              "    80% {\n",
              "      border-color: transparent;\n",
              "      border-right-color: var(--fill-color);\n",
              "      border-bottom-color: var(--fill-color);\n",
              "    }\n",
              "    90% {\n",
              "      border-color: transparent;\n",
              "      border-bottom-color: var(--fill-color);\n",
              "    }\n",
              "  }\n",
              "</style>\n",
              "\n",
              "  <script>\n",
              "    async function quickchart(key) {\n",
              "      const quickchartButtonEl =\n",
              "        document.querySelector('#' + key + ' button');\n",
              "      quickchartButtonEl.disabled = true;  // To prevent multiple clicks.\n",
              "      quickchartButtonEl.classList.add('colab-df-spinner');\n",
              "      try {\n",
              "        const charts = await google.colab.kernel.invokeFunction(\n",
              "            'suggestCharts', [key], {});\n",
              "      } catch (error) {\n",
              "        console.error('Error during call to suggestCharts:', error);\n",
              "      }\n",
              "      quickchartButtonEl.classList.remove('colab-df-spinner');\n",
              "      quickchartButtonEl.classList.add('colab-df-quickchart-complete');\n",
              "    }\n",
              "    (() => {\n",
              "      let quickchartButtonEl =\n",
              "        document.querySelector('#df-164f5562-9848-4626-ba3b-a08b04296f80 button');\n",
              "      quickchartButtonEl.style.display =\n",
              "        google.colab.kernel.accessAllowed ? 'block' : 'none';\n",
              "    })();\n",
              "  </script>\n",
              "</div>\n",
              "    </div>\n",
              "  </div>\n"
            ]
          },
          "metadata": {},
          "execution_count": 73
        }
      ]
    },
    {
      "cell_type": "code",
      "source": [
        "air[\"Price\"] = air[\"Price\"].str.replace(\",\", \"\") #This replaces the , with empty space. this is important to allow for coercion later\n",
        "air[\"Price\"] = air[\"Price\"].astype(int) # this makes the datatype integer. this allows us to do numeric analysis\n"
      ],
      "metadata": {
        "id": "RTbZTLVNigFo"
      },
      "id": "RTbZTLVNigFo",
      "execution_count": 74,
      "outputs": []
    },
    {
      "cell_type": "code",
      "source": [
        "air[\"Price\"] = air[\"Price\"].astype(int)\n",
        "air[\"Price_nan\"] = air[\"Price\"].isnull() #this creates a missing value dummy\n",
        "value_counts(air[\"Price_nan\"])"
      ],
      "metadata": {
        "id": "oiJprsOzpNLE",
        "colab": {
          "base_uri": "https://localhost:8080/"
        },
        "outputId": "9f022533-08b9-4e05-ec93-17b71c526082"
      },
      "id": "oiJprsOzpNLE",
      "execution_count": 75,
      "outputs": [
        {
          "output_type": "execute_result",
          "data": {
            "text/plain": [
              "False    30478\n",
              "Name: Price_nan, dtype: int64"
            ]
          },
          "metadata": {},
          "execution_count": 75
        }
      ]
    },
    {
      "cell_type": "code",
      "source": [
        "print(air.dtypes)\n"
      ],
      "metadata": {
        "id": "qZRCOfbxn1ur",
        "colab": {
          "base_uri": "https://localhost:8080/"
        },
        "outputId": "ad5a71ee-f52d-4b94-afb7-868bf50f350d"
      },
      "id": "qZRCOfbxn1ur",
      "execution_count": 76,
      "outputs": [
        {
          "output_type": "stream",
          "name": "stdout",
          "text": [
            "Host Id                         int64\n",
            "Host Since                     object\n",
            "Name                           object\n",
            "Neighbourhood                  object\n",
            "Property Type                  object\n",
            "Review Scores Rating (bin)    float64\n",
            "Room Type                      object\n",
            "Zipcode                       float64\n",
            "Beds                          float64\n",
            "Number of Records               int64\n",
            "Number Of Reviews               int64\n",
            "Price                           int64\n",
            "Review Scores Rating          float64\n",
            "Price_nan                        bool\n",
            "dtype: object\n"
          ]
        }
      ]
    },
    {
      "cell_type": "markdown",
      "source": [
        "####2"
      ],
      "metadata": {
        "id": "UE3_hlUXrC3w"
      },
      "id": "UE3_hlUXrC3w"
    },
    {
      "cell_type": "code",
      "source": [
        "df2 = pd.read_csv(\"/content/assignment2/data/sharks.csv\",low_memory=False)\n",
        "print(df2[\"Type\"].unique())\n",
        "print(df2[\"Type\"].value_counts())\n",
        "#print(df2.dtypes)\n",
        "df2.head()"
      ],
      "metadata": {
        "id": "08bg3-YHrEad"
      },
      "id": "08bg3-YHrEad",
      "execution_count": null,
      "outputs": []
    },
    {
      "cell_type": "code",
      "source": [
        "from pandas._libs.hashtable import value_count\n",
        "df2[\"Type\"] = df2[\"Type\"].replace([\"Boat\",\"Boating\",\"Boatomg\"],\"Watercraft\") #multiple categorical responses could be realisitcally considered \"boats of some sort\"\n",
        "df2[\"Type\"] = df2[\"Type\"].replace([\"Questionable\",\"Unverfified\",\"Under investigation\",\"Unverified\"], \"Unconfirmed\") # the low response rate suggests that combination is unproblematic. All have an element of uncertainty.\n",
        "print(value_counts(df2[\"Type\"]))\n",
        "\n",
        "\n"
      ],
      "metadata": {
        "id": "MgxrcSInjnyo"
      },
      "id": "MgxrcSInjnyo",
      "execution_count": null,
      "outputs": []
    },
    {
      "cell_type": "markdown",
      "source": [
        "3"
      ],
      "metadata": {
        "id": "75S8LUvXlcHk"
      },
      "id": "75S8LUvXlcHk"
    },
    {
      "cell_type": "code",
      "source": [
        "url=\"http://www.vcsc.virginia.gov/pretrialdataproject/October%202017%20Cohort_Virginia%20Pretrial%20Data%20Project_Deidentified%20FINAL%20Update_10272021.csv\"\n",
        "df = pd.read_csv(url,low_memory=False)"
      ],
      "metadata": {
        "id": "U9M-bMSBjmjM"
      },
      "id": "U9M-bMSBjmjM",
      "execution_count": 19,
      "outputs": []
    },
    {
      "cell_type": "code",
      "source": [
        "df[\"WhetherDefendantWasReleasedPretrial\"] = df[\"WhetherDefendantWasReleasedPretrial\"].replace(9,np.nan)\n",
        "df=df.rename(columns= {\"WhetherDefendantWasReleasedPretrial\":\"released\"})\n",
        "print(value_counts(df[\"released\"]))"
      ],
      "metadata": {
        "colab": {
          "base_uri": "https://localhost:8080/"
        },
        "id": "hK_errW7lVwS",
        "outputId": "9041d317-0052-4cc4-ed4d-907842abf3e0"
      },
      "id": "hK_errW7lVwS",
      "execution_count": null,
      "outputs": [
        {
          "output_type": "stream",
          "name": "stdout",
          "text": [
            "1.0    19154\n",
            "0.0     3801\n",
            "Name: released, dtype: int64\n"
          ]
        }
      ]
    },
    {
      "cell_type": "markdown",
      "source": [
        "4"
      ],
      "metadata": {
        "id": "1MeRn2VNoDCE"
      },
      "id": "1MeRn2VNoDCE"
    },
    {
      "cell_type": "code",
      "source": [
        " #Codebook states that all charges led to pending, deferred dropped. Thus for analysis purposes these charges led to 0 years jailtime. Potential for error due to pending charges, but this could be a flaw\n",
        " #in the recording since it is included with other states that could be thought of as no jail time.\n",
        "df.loc[(df[\"SentenceTypeAllChargesAtConvictionInContactEvent\"]==4), \"ImposedSentenceAllChargeInContactEvent\" ] = 0\n",
        "#this state, 9,  suggests the lack of information so operates as a nan value.\n",
        "df.loc[(df[\"SentenceTypeAllChargesAtConvictionInContactEvent\"]==9), \"ImposedSentenceAllChargeInContactEvent\" ] = np.nan\n",
        "df[\"ImposedSentenceAllChargeInContactEvent\"] = pd.to_numeric(df[\"ImposedSentenceAllChargeInContactEvent\"],errors='coerce')\n",
        "df[\"ImposedSentenceAllChargeInContactEvent\"] = df[\"ImposedSentenceAllChargeInContactEvent\"].apply(np.ceil) #for analysis rounds to closest integer above float. Helps analysis but doesnt round down time (ie avoids weekend sentances being 0)\n",
        "df[\"imposed_nan\"]=df[\"ImposedSentenceAllChargeInContactEvent\"].isnull()\n",
        "print(value_counts(df[\"imposed_nan\"]))\n",
        "print(value_counts(df[\"ImposedSentenceAllChargeInContactEvent\"]))\n",
        "pd.crosstab(df['ImposedSentenceAllChargeInContactEvent'], df['SentenceTypeAllChargesAtConvictionInContactEvent'])\n"
      ],
      "metadata": {
        "id": "4gPImq9voDnn"
      },
      "id": "4gPImq9voDnn",
      "execution_count": null,
      "outputs": []
    },
    {
      "cell_type": "markdown",
      "id": "c11bcd96-2834-41a4-80fe-d354b4277fd9",
      "metadata": {
        "id": "c11bcd96-2834-41a4-80fe-d354b4277fd9"
      },
      "source": [
        "**Q3.** This question provides some practice doing exploratory data analysis and visualization.\n",
        "\n",
        "The \"relevant\" variables for this question are:\n",
        "  - `level` - Level of institution (4-year, 2-year)\n",
        "  - `aid_value` - The average amount of student aid going to undergraduate recipients\n",
        "  - `control` - Public, Private not-for-profit, Private for-profit\n",
        "  - `grad_100_value` - percentage of first-time, full-time, degree-seeking undergraduates who complete a degree or certificate program within 100 percent of expected time (bachelor's-seeking group at 4-year institutions)\n",
        "\n",
        "1. Load the `./data/college_completion.csv` data with Pandas.\n",
        "2. What are are the dimensions of the data? How many observations are there? What are the variables included? Use `.head()` to examine the first few rows of data.\n",
        "3. Cross tabulate `control` and `level`. Describe the patterns you see.\n",
        "4. For `grad_100_value`, create a histogram, kernel density plot, boxplot, and statistical description.\n",
        "5. For `grad_100_value`, create a grouped kernel density plot by `control` and by `level`. Describe what you see. Use `groupby` and `.describe` to make grouped calculations of statistical descriptions of `grad_100_value` by `level` and `control`. Which institutions appear to have the best graduation rates?\n",
        "6. Create a new variable, `df['levelXcontrol']=df['level']+', '+df['control']` that interacts level and control. Make a grouped kernel density plot. Which institutions appear to have the best graduation rates?\n",
        "7. Make a kernel density plot of `aid_value`. Notice that your graph is \"bi-modal\", having two little peaks that represent locally most common values. Now group your graph by `level` and `control`. What explains the bi-modal nature of the graph? Use `groupby` and `.describe` to make grouped calculations of statistical descriptions of `aid_value` by `level` and `control`.\n",
        "8. Make a scatterplot of `grad_100_value` by `aid_value`. Describe what you see. Now make the same plot, grouping by `level` and then `control`. Describe what you see. For which kinds of institutions does aid seem to increase graduation rates?"
      ]
    },
    {
      "cell_type": "markdown",
      "id": "98d34a3b-c21d-4dc9-a8d2-fb7686804ceb",
      "metadata": {
        "id": "98d34a3b-c21d-4dc9-a8d2-fb7686804ceb"
      },
      "source": [
        "**Q4.** This question uses the Airbnb data to practice making visualizations.\n",
        "\n",
        "  1. Load the `./data/airbnb_hw.csv` data with Pandas. You should have cleaned the `Price` variable in question 2, and you'll need it later for this question.\n",
        "  2. What are are the dimensions of the data? How many observations are there? What are the variables included? Use `.head()` to examine the first few rows of data.\n",
        "  3. Cross tabulate `Room Type` and `Property Type`. What patterns do you see in what kinds of rentals are available? For which kinds of properties are private rooms more common than renting the entire property?\n",
        "  4. For `Price`, make a histogram, kernel density, box plot, and a statistical description of the variable. Are the data badly scaled? Are there many outliers? Use `log` to transform price into a new variable, `price_log`, and take these steps again.\n",
        "  5. Make a scatterplot of `price_log` and `Beds`. Describe what you see. Use `.groupby()` to compute a desciption of `Price` conditional on/grouped by the number of beds. Describe any patterns you see in the average price and standard deviation in prices.\n",
        "  6. Make a scatterplot of `price_log` and `Beds`, but color the graph by `Room Type` and `Property Type`. What patterns do you see? Compute a description of `Price` conditional on `Room Type` and `Property Type`. Which Room Type and Property Type have the highest prices on average? Which have the highest standard deviation? Does the mean or median appear to be a more reliable estimate of central tendency, and explain why?\n",
        "  7. We've looked a bit at this `price_log` and `Beds` scatterplot. Use seaborn to make a `jointplot` with `kind=hex`. Where are the data actually distributed? How does it affect the way you think about the plots in 5 and 6?"
      ]
    },
    {
      "cell_type": "code",
      "source": [
        "air = pd.read_csv(\"/content/assignment2/data/airbnb_hw.csv\")\n"
      ],
      "metadata": {
        "id": "w6m852XZeZFv"
      },
      "id": "w6m852XZeZFv",
      "execution_count": 71,
      "outputs": []
    },
    {
      "cell_type": "markdown",
      "source": [
        "2. The dimesions of this data 30478x13. This is 13 variables and 30478 observations. Variables are displayed by air.dtypes below."
      ],
      "metadata": {
        "id": "J7c8CLXFfGYr"
      },
      "id": "J7c8CLXFfGYr"
    },
    {
      "cell_type": "code",
      "source": [
        "air.head()\n",
        "#print(air.dtypes)"
      ],
      "metadata": {
        "id": "bp_EpfOqe9Ad"
      },
      "id": "bp_EpfOqe9Ad",
      "execution_count": null,
      "outputs": []
    },
    {
      "cell_type": "code",
      "source": [
        "#3\n",
        "pd.crosstab(air[\"Room Type\"],air[\"Property Type\"])"
      ],
      "metadata": {
        "id": "lcm_gPp4fxU2"
      },
      "id": "lcm_gPp4fxU2",
      "execution_count": null,
      "outputs": []
    },
    {
      "cell_type": "markdown",
      "source": [
        "3. cont'd\n",
        "Overall trends show that apartments are the most common type of property and that entire home/apt is the most common room type. The properties that a private room is more common for are B&B, House,Form,Other."
      ],
      "metadata": {
        "id": "skF9wPyWgUlZ"
      },
      "id": "skF9wPyWgUlZ"
    },
    {
      "cell_type": "code",
      "source": [
        "import seaborn as sns"
      ],
      "metadata": {
        "id": "iw94KhFRkzHR"
      },
      "id": "iw94KhFRkzHR",
      "execution_count": 85,
      "outputs": []
    },
    {
      "cell_type": "code",
      "source": [
        "#4\n",
        "air[\"Price\"].describe()\n",
        "\n"
      ],
      "metadata": {
        "id": "tFza29t9gwAV"
      },
      "id": "tFza29t9gwAV",
      "execution_count": null,
      "outputs": []
    },
    {
      "cell_type": "code",
      "source": [
        "air.boxplot(\"Price\")\n",
        "air.hist(\"Price\",bins=100)"
      ],
      "metadata": {
        "id": "wWBAjiSnlFjd"
      },
      "id": "wWBAjiSnlFjd",
      "execution_count": null,
      "outputs": []
    },
    {
      "cell_type": "code",
      "source": [
        "sns.kdeplot(air[\"Price\"])"
      ],
      "metadata": {
        "id": "tZO2XbkalBg7"
      },
      "id": "tZO2XbkalBg7",
      "execution_count": null,
      "outputs": []
    },
    {
      "cell_type": "markdown",
      "source": [
        "There are many outliers and the data is badly scewed."
      ],
      "metadata": {
        "id": "gZQRMrLKlRFc"
      },
      "id": "gZQRMrLKlRFc"
    },
    {
      "cell_type": "code",
      "source": [
        "air[\"price_log\"]=np.log(air[\"Price\"])"
      ],
      "metadata": {
        "id": "2g6NIxXrlUCD"
      },
      "id": "2g6NIxXrlUCD",
      "execution_count": 93,
      "outputs": []
    },
    {
      "cell_type": "code",
      "source": [
        "air[\"price_log\"].describe()\n"
      ],
      "metadata": {
        "id": "jqoBBsgPlgUQ"
      },
      "id": "jqoBBsgPlgUQ",
      "execution_count": null,
      "outputs": []
    },
    {
      "cell_type": "code",
      "source": [
        "air.boxplot(\"price_log\")\n",
        "air.hist(\"price_log\",bins=100)"
      ],
      "metadata": {
        "id": "ZMuigdTElght"
      },
      "id": "ZMuigdTElght",
      "execution_count": null,
      "outputs": []
    },
    {
      "cell_type": "code",
      "source": [
        "sns.kdeplot(air[\"price_log\"])"
      ],
      "metadata": {
        "id": "YZM5mC_Llgpg"
      },
      "id": "YZM5mC_Llgpg",
      "execution_count": null,
      "outputs": []
    },
    {
      "cell_type": "code",
      "source": [
        "#5\n",
        "sns.scatterplot(x=air[\"price_log\"],y=air[\"Beds\"])\n"
      ],
      "metadata": {
        "id": "2pcCswhgluU0"
      },
      "id": "2pcCswhgluU0",
      "execution_count": null,
      "outputs": []
    },
    {
      "cell_type": "code",
      "source": [
        "air.groupby(\"Beds\")[\"Price\"].describe()\n",
        "#This breakdown shows that there are some bed numbers with very high SD. notably 5, 8, and 12. This could mean that these types of houses hold outlier data. Also the appearance of listings decreases directly\n",
        "#the number of beds. The mean generally increases with some major outliers (5,8,12) which are likely affected by outliers."
      ],
      "metadata": {
        "id": "S5eAIKoQm8N_"
      },
      "id": "S5eAIKoQm8N_",
      "execution_count": null,
      "outputs": []
    },
    {
      "cell_type": "markdown",
      "source": [
        "Make a scatterplot of price_log and Beds, but color the graph by Room Type and Property Type. What patterns do you see? Compute a description of Price conditional on Room Type and Property Type. Which Room Type and Property Type have the highest prices on average? Which have the highest standard deviation? Does the mean or median appear to be a more reliable estimate of central tendency, and explain why?"
      ],
      "metadata": {
        "id": "sq8VdgIh8OTz"
      },
      "id": "sq8VdgIh8OTz"
    },
    {
      "cell_type": "code",
      "source": [
        "#6\n",
        "sns.scatterplot(x=air[\"price_log\"],y=air[\"Beds\"],hue=air[\"Room Type\"],style= air[\"Property Type\"])\n",
        "#This showsw that most of the ourtliers in price are entire rooms, and beyond that many are house with a few apartments.\n",
        "#Private rooms live at a log price between 3.5 and 4.5 mostly\n",
        "#shared rooms are the least common and exist at the lowest end of the log price scale.\n"
      ],
      "metadata": {
        "id": "4JyApJmR8LcO"
      },
      "id": "4JyApJmR8LcO",
      "execution_count": null,
      "outputs": []
    },
    {
      "cell_type": "code",
      "source": [
        "air.groupby(\"Property Type\")[\"Price\"].describe()\n",
        "#Other has the highest price and SD, this is likely an unusual property that doesnt match the describtion.\n",
        "# after that it is VIlla\n",
        "# the median seems more accurate since there are definetly outliers"
      ],
      "metadata": {
        "id": "yxorUCbq-QG2"
      },
      "id": "yxorUCbq-QG2",
      "execution_count": null,
      "outputs": []
    },
    {
      "cell_type": "code",
      "source": [
        "air.groupby(\"Room Type\")[\"Price\"].describe()\n",
        "#the highest mean and SD is entire home/apt\n",
        "# the median seems more accurate since there are definetly outliers"
      ],
      "metadata": {
        "id": "KOIWr-_8-257"
      },
      "id": "KOIWr-_8-257",
      "execution_count": null,
      "outputs": []
    },
    {
      "cell_type": "code",
      "source": [
        "#7\n",
        "sns.jointplot(x=air[\"price_log\"],y=air[\"Beds\"],kind=\"hex\")\n",
        "#The data really only exists between 3 and 6 log price and 1 and 3 bedroom. Thus there is an incredible effect of outliers that should be removed for analysis."
      ],
      "metadata": {
        "id": "x8Y3m9Zo_dJV"
      },
      "id": "x8Y3m9Zo_dJV",
      "execution_count": null,
      "outputs": []
    },
    {
      "cell_type": "markdown",
      "id": "649494cd-cfd6-4f80-992a-9994fc19e1d5",
      "metadata": {
        "id": "649494cd-cfd6-4f80-992a-9994fc19e1d5"
      },
      "source": [
        "**Q5.** Many important datasets contain a race variable, typically limited to a handful of values often including Black, White, Asian, Latino, and Indigenous. This question looks at data gathering efforts on this variable by the U.S. Federal government.\n",
        "\n",
        "1. How did the most recent US Census gather data on race?\n",
        "2. Why do we gather these data? What role do these kinds of data play in politics and society? Why does data quality matter?\n",
        "3. Please provide a constructive criticism of how the Census was conducted: What was done well? What do you think was missing? How should future large scale surveys be adjusted to best reflect the diversity of the population? Could some of the Census' good practices be adopted more widely to gather richer and more useful data?\n",
        "4. How did the Census gather data on sex and gender? Please provide a similar constructive criticism of their practices.\n",
        "5. When it comes to cleaning data, what concerns do you have about protected characteristics like sex, gender, sexual identity, or race? What challenges can you imagine arising when there are missing values? What good or bad practices might people adopt, and why?\n",
        "6. Suppose someone invented an algorithm to impute values for protected characteristics like race, gender, sex, or sexuality. What kinds of concerns would you have?"
      ]
    },
    {
      "cell_type": "markdown",
      "id": "2f38f2fd-6381-481d-bba9-017f3d363426",
      "metadata": {
        "id": "2f38f2fd-6381-481d-bba9-017f3d363426"
      },
      "source": [
        "**Q6.** Open the `./data/CBO_data.pdf` file. This contains tax data for 2019, explaining where the money comes from that the U.S. Federal Government Spends in terms of taxation on individuals/families and payroll taxes (the amount that your employer pays in taxes on your wages).\n",
        "\n",
        "For some context, the Federal government ultimately spent about $4.4 trillion in 2019, which was 21% of GDP (the total monetary value of all goods and services produced within the United States). Individual Income Taxes is the amount individuals pay on their wages to the Federal government, Corporate Income Taxes is the taxes individuals pay on capital gains from investment when they sell stock or other financial instruments, Payroll Taxes is the tax your employer pays on your wages, Excises and Customs Duties are taxes on goods or services like sin taxes on cigarettes or alcohol, and Estate and Gift Taxes are taxes paid on transfers of wealth to other people.\n",
        "\n",
        "1. Get the Millions of Families and Billions of Dollars data into a .csv file and load it with Pandas.\n",
        "2. Create a bar plot of individual income taxes by income decile. Explain what the graph shows. Why are some values negative?\n",
        "3. Create a bar plot of Total Federal Taxes by income decile. Which deciles are paying net positive amounts, and which are paying net negative amounts?\n",
        "4. Create a stacked bar plot for which Total Federal Taxes is grouped by Individual Income Taxes, Payroll Taxes, Excises and Customs Duties, and Estate and Gift Taxes. How does the share of taxes paid vary across the adjusted income deciles? (Hint: Are these the kind of data you want to melt?)\n",
        "5. Below the Total line for Millions of Families and Billions of Dollars, there are data for the richest of the richest families. Plot this alongside the bars for the deciles above the Total line. Describe your results.\n",
        "6. Get the Percent Distribution data into a .csv file and load it with Pandas. Create a bar graph of Total Federal Taxes by income decile.\n",
        "7. A tax system is progressive if higher-income and wealthier individuals pay more than lower-income and less wealthy individuals, and it is regressive if the opposite is true. Is the U.S. tax system progressive in terms of amount paid? In terms of the percentage of the overall total?\n",
        "8. Do the rich pay enough in taxes? Defend your answer."
      ]
    }
  ],
  "metadata": {
    "kernelspec": {
      "display_name": "Python 3 (ipykernel)",
      "language": "python",
      "name": "python3"
    },
    "language_info": {
      "codemirror_mode": {
        "name": "ipython",
        "version": 3
      },
      "file_extension": ".py",
      "mimetype": "text/x-python",
      "name": "python",
      "nbconvert_exporter": "python",
      "pygments_lexer": "ipython3",
      "version": "3.10.4"
    },
    "colab": {
      "provenance": []
    }
  },
  "nbformat": 4,
  "nbformat_minor": 5
}